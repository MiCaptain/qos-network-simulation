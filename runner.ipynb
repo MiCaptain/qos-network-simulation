{
 "cells": [
  {
   "cell_type": "code",
   "execution_count": null,
   "id": "e670983f",
   "metadata": {},
   "outputs": [],
   "source": [
    "# Célula de Execução: Cenário Completo (Roteiro)\n",
    "\n",
    "# 1. Limpeza e preparação do ambiente // Tente executar se estiver tendo problemas\n",
    "#!sudo bash -x clean_all.sh #sudo apt install openvswitch-switch\n",
    "#!sudo service openvswitch-switch start\n",
    "#!sudo rm -f logs/*.txt\n",
    "\n",
    "# 2. Executa a simulação principal 'router_roteiro.py'\"\n",
    "#    Usa o containernet local via PYTHONPATH relativo.\"\n",
    "#!gnome-terminal -- sudo PYTHONPATH=./containernet python3 router_roteiro.py \n",
    "!gnome-terminal -- sudo -E PYTHONPATH=./containernet ./venv/bin/python3 router_roteiro.py\n",
    "# pip install docker\n",
    "# sudo apt-get update\n",
    "# sudo apt-get install openvswitch-testcontroller\n",
    "# which ovs-controller\n",
    "# sudo apt install mininet\n",
    "# 3. Executa o script de visualização de gráficos\"\n",
    "!gnome-terminal -- sudo ./venv/bin/python3 grafico_latency.py\n",
    "#sudo apt install python3-tk"
   ]
  },
  {
   "cell_type": "code",
   "execution_count": null,
   "id": "e688737e",
   "metadata": {},
   "outputs": [
    {
     "name": "stdout",
     "output_type": "stream",
     "text": [
      "[sudo] password for teste01: \n",
      "sudo: a password is required\n",
      "^C\n",
      "[sudo] password for teste01: "
     ]
    }
   ],
   "source": [
    "# Célula de Execução: Cenário de inferecia\n",
    "# Limpeza e build\n",
    "!sudo bash -x clean_all.sh\n",
    "!sudo service openvswitch-switch start\n",
    "!sudo rm -f logs/*.txt\n",
    "# Executa router_simples.py\n",
    "!gnome-terminal -- sudo PYTHONPATH=./containernet python3 router_simples.py\n",
    "\n",
    "# Executa os scripts de gráficos\n",
    "!gnome-terminal -- python3 grafico_latency.py\n"
   ]
  }
 ],
 "metadata": {
  "kernelspec": {
   "display_name": "venv",
   "language": "python",
   "name": "python3"
  },
  "language_info": {
   "codemirror_mode": {
    "name": "ipython",
    "version": 3
   },
   "file_extension": ".py",
   "mimetype": "text/x-python",
   "name": "python",
   "nbconvert_exporter": "python",
   "pygments_lexer": "ipython3",
   "version": "3.12.3"
  }
 },
 "nbformat": 4,
 "nbformat_minor": 5
}
