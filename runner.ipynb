{
 "cells": [
  {
   "cell_type": "code",
   "execution_count": null,
   "id": "e670983f",
   "metadata": {},
   "outputs": [],
   "source": [
    "# Célula de Execução: Cenário Completo (Roteiro)\n",
    "\n",
    "# 1. Limpeza e preparação do ambiente\n",
    "!sudo bash -x clean_all.sh\n",
    "!sudo service openvswitch-switch start\n",
    "!sudo rm -f logs/*.txt\n",
    "\n",
    "# 2. Executa a simulação principal 'router_roteiro.py'\"\n",
    "#    Usa o containernet local via PYTHONPATH relativo.\"\n",
    "!gnome-terminal -- sudo PYTHONPATH=./containernet python3 router_roteiro.py\n",
    "\n",
    "# 3. Executa o script de visualização de gráficos\"\n",
    "!gnome-terminal -- sudo python3 grafico_latency.py"
   ]
  },
  {
   "cell_type": "code",
   "execution_count": null,
   "id": "e688737e",
   "metadata": {},
   "outputs": [],
   "source": [
    "# Célula de Execução: Cenário de inferecia\n",
    "# Limpeza e build\n",
    "!sudo bash -x clean_all.sh\n",
    "!sudo service openvswitch-switch start\n",
    "!sudo rm -f logs/*.txt\n",
    "# Executa router_simples.py\n",
    "!gnome-terminal -- sudo PYTHONPATH=./containernet python3 router_simples.py\n",
    "\n",
    "# Executa os scripts de gráficos\n",
    "!gnome-terminal -- sudo python3 grafico_latency.py"
   ]
  }
 ],
 "metadata": {
  "kernelspec": {
   "display_name": "Python (NetLab)",
   "language": "python",
   "name": "netlab"
  },
  "language_info": {
   "codemirror_mode": {
    "name": "ipython",
    "version": 3
   },
   "file_extension": ".py",
   "mimetype": "text/x-python",
   "name": "python",
   "nbconvert_exporter": "python",
   "pygments_lexer": "ipython3",
   "version": "3.12.3"
  }
 },
 "nbformat": 4,
 "nbformat_minor": 5
}
